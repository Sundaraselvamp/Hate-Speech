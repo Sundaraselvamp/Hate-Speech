{
 "cells": [
  {
   "cell_type": "code",
   "execution_count": 1,
   "id": "06603ff1",
   "metadata": {},
   "outputs": [
    {
     "name": "stdout",
     "output_type": "stream",
     "text": [
      "WARNING:tensorflow:From d:\\GUVI\\Hate Speech\\venv\\Lib\\site-packages\\keras\\src\\losses.py:2976: The name tf.losses.sparse_softmax_cross_entropy is deprecated. Please use tf.compat.v1.losses.sparse_softmax_cross_entropy instead.\n",
      "\n"
     ]
    }
   ],
   "source": [
    "import spacy\n",
    "import os\n",
    "import pandas as pd\n",
    "from sklearn.model_selection import train_test_split\n",
    "from sklearn.metrics import accuracy_score, classification_report, confusion_matrix\n",
    "from sklearn.preprocessing import LabelEncoder\n",
    "from transformers import DistilBertTokenizer, TFDistilBertModel\n",
    "from tensorflow.keras.preprocessing.sequence import pad_sequences\n",
    "from tensorflow import keras\n",
    "from tensorflow.keras.layers import Input,Dense, GlobalMaxPooling1D\n",
    "import seaborn as sns \n",
    "import matplotlib.pyplot as plt\n"
   ]
  },
  {
   "cell_type": "code",
   "execution_count": 2,
   "id": "9273952b",
   "metadata": {},
   "outputs": [],
   "source": [
    "text_folder=\"data\\Text file\""
   ]
  },
  {
   "cell_type": "code",
   "execution_count": 3,
   "id": "3dfe3cb1",
   "metadata": {},
   "outputs": [],
   "source": [
    "# Load spaCy model\n",
    "nlp = spacy.load(\"en_core_web_sm\")"
   ]
  },
  {
   "cell_type": "code",
   "execution_count": 4,
   "id": "96049307",
   "metadata": {},
   "outputs": [],
   "source": [
    "# Define a custom spaCy tokenizer\n",
    "def spacy_tokenizer(text):\n",
    "    doc = nlp(text)\n",
    "    tokens = [token.lemma_ for token in doc if token.is_alpha and not token.is_stop]\n",
    "    return tokens"
   ]
  },
  {
   "cell_type": "code",
   "execution_count": 5,
   "id": "3af57add",
   "metadata": {},
   "outputs": [],
   "source": [
    "# Function to read text from files based on file_id\n",
    "def read_text_from_file(file_id):\n",
    "    file_path=os.path.join(text_folder,f'{file_id}.txt')\n",
    "    try:\n",
    "        with open(file_path,'r',encoding='utf-8') as file:\n",
    "            return file.read()\n",
    "    except FileNotFoundError:\n",
    "        return ''"
   ]
  },
  {
   "cell_type": "code",
   "execution_count": 6,
   "id": "15d3eb29",
   "metadata": {},
   "outputs": [],
   "source": [
    "data=pd.read_csv('data\\Annotations_Metadata.csv')"
   ]
  },
  {
   "cell_type": "code",
   "execution_count": 7,
   "id": "cc51016c",
   "metadata": {},
   "outputs": [],
   "source": [
    "data['actual_text']=data['file_id'].apply(lambda file_id: read_text_from_file(file_id))"
   ]
  },
  {
   "cell_type": "code",
   "execution_count": 8,
   "id": "a575e379",
   "metadata": {},
   "outputs": [],
   "source": [
    "# preprocess and tokenize the text\n",
    "data['preprocessed_text']=data['actual_text'].apply(lambda text:' '.join(spacy_tokenizer(text)))"
   ]
  },
  {
   "cell_type": "code",
   "execution_count": 9,
   "id": "b06ae504",
   "metadata": {},
   "outputs": [],
   "source": [
    "# Encode labels using LabelEncoder for multi-class classification\n",
    "label_encoder = LabelEncoder()\n",
    "data['label_encoded'] = label_encoder.fit_transform(data['label'])"
   ]
  },
  {
   "cell_type": "code",
   "execution_count": 10,
   "id": "e7b8a040",
   "metadata": {},
   "outputs": [
    {
     "data": {
      "text/html": [
       "<div>\n",
       "<style scoped>\n",
       "    .dataframe tbody tr th:only-of-type {\n",
       "        vertical-align: middle;\n",
       "    }\n",
       "\n",
       "    .dataframe tbody tr th {\n",
       "        vertical-align: top;\n",
       "    }\n",
       "\n",
       "    .dataframe thead th {\n",
       "        text-align: right;\n",
       "    }\n",
       "</style>\n",
       "<table border=\"1\" class=\"dataframe\">\n",
       "  <thead>\n",
       "    <tr style=\"text-align: right;\">\n",
       "      <th></th>\n",
       "      <th>file_id</th>\n",
       "      <th>user_id</th>\n",
       "      <th>subforum_id</th>\n",
       "      <th>num_contexts</th>\n",
       "      <th>label</th>\n",
       "      <th>actual_text</th>\n",
       "      <th>preprocessed_text</th>\n",
       "      <th>label_encoded</th>\n",
       "    </tr>\n",
       "  </thead>\n",
       "  <tbody>\n",
       "    <tr>\n",
       "      <th>0</th>\n",
       "      <td>12834217_1</td>\n",
       "      <td>572066</td>\n",
       "      <td>1346</td>\n",
       "      <td>0</td>\n",
       "      <td>noHate</td>\n",
       "      <td>As of March 13th , 2014 , the booklet had been...</td>\n",
       "      <td>March booklet download time counting</td>\n",
       "      <td>2</td>\n",
       "    </tr>\n",
       "    <tr>\n",
       "      <th>1</th>\n",
       "      <td>12834217_2</td>\n",
       "      <td>572066</td>\n",
       "      <td>1346</td>\n",
       "      <td>0</td>\n",
       "      <td>noHate</td>\n",
       "      <td>In order to help increase the booklets downloa...</td>\n",
       "      <td>order help increase booklet download great sto...</td>\n",
       "      <td>2</td>\n",
       "    </tr>\n",
       "    <tr>\n",
       "      <th>2</th>\n",
       "      <td>12834217_3</td>\n",
       "      <td>572066</td>\n",
       "      <td>1346</td>\n",
       "      <td>0</td>\n",
       "      <td>noHate</td>\n",
       "      <td>( Simply copy and paste the following text int...</td>\n",
       "      <td>simply copy paste following text YouTube video...</td>\n",
       "      <td>2</td>\n",
       "    </tr>\n",
       "    <tr>\n",
       "      <th>3</th>\n",
       "      <td>12834217_4</td>\n",
       "      <td>572066</td>\n",
       "      <td>1346</td>\n",
       "      <td>0</td>\n",
       "      <td>hate</td>\n",
       "      <td>Click below for a FREE download of a colorfull...</td>\n",
       "      <td>click free download colorfully illustrate page...</td>\n",
       "      <td>0</td>\n",
       "    </tr>\n",
       "    <tr>\n",
       "      <th>4</th>\n",
       "      <td>12834217_5</td>\n",
       "      <td>572066</td>\n",
       "      <td>1346</td>\n",
       "      <td>0</td>\n",
       "      <td>noHate</td>\n",
       "      <td>Click on the `` DOWNLOAD ( 7.42 MB ) '' green ...</td>\n",
       "      <td>click DOWNLOAD mb green banner link</td>\n",
       "      <td>2</td>\n",
       "    </tr>\n",
       "  </tbody>\n",
       "</table>\n",
       "</div>"
      ],
      "text/plain": [
       "      file_id  user_id  subforum_id  num_contexts   label  \\\n",
       "0  12834217_1   572066         1346             0  noHate   \n",
       "1  12834217_2   572066         1346             0  noHate   \n",
       "2  12834217_3   572066         1346             0  noHate   \n",
       "3  12834217_4   572066         1346             0    hate   \n",
       "4  12834217_5   572066         1346             0  noHate   \n",
       "\n",
       "                                         actual_text  \\\n",
       "0  As of March 13th , 2014 , the booklet had been...   \n",
       "1  In order to help increase the booklets downloa...   \n",
       "2  ( Simply copy and paste the following text int...   \n",
       "3  Click below for a FREE download of a colorfull...   \n",
       "4  Click on the `` DOWNLOAD ( 7.42 MB ) '' green ...   \n",
       "\n",
       "                                   preprocessed_text  label_encoded  \n",
       "0               March booklet download time counting              2  \n",
       "1  order help increase booklet download great sto...              2  \n",
       "2  simply copy paste following text YouTube video...              2  \n",
       "3  click free download colorfully illustrate page...              0  \n",
       "4                click DOWNLOAD mb green banner link              2  "
      ]
     },
     "execution_count": 10,
     "metadata": {},
     "output_type": "execute_result"
    }
   ],
   "source": [
    "data.head()"
   ]
  },
  {
   "cell_type": "code",
   "execution_count": 11,
   "id": "eacae7ee",
   "metadata": {},
   "outputs": [],
   "source": [
    "# Use DistilBERT tokenizer\n",
    "tokenizer = DistilBertTokenizer.from_pretrained('distilbert-base-uncased')\n",
    "\n",
    "# Tokenize and pad the sequences\n",
    "sequences = data['preprocessed_text'].apply(lambda x: tokenizer.encode(x, add_special_tokens=True, max_length=100, truncation=True))\n",
    "padded_sequences = pad_sequences(sequences, maxlen=100, padding='post', truncating='post')"
   ]
  },
  {
   "cell_type": "code",
   "execution_count": 12,
   "id": "6fae3d79",
   "metadata": {},
   "outputs": [],
   "source": [
    "# Split the dataset into training and testing sets\n",
    "X_train, X_test, y_train, y_test = train_test_split(padded_sequences, data['label_encoded'], test_size=0.2, random_state=42)"
   ]
  },
  {
   "cell_type": "code",
   "execution_count": 13,
   "id": "e4f5f3e8",
   "metadata": {},
   "outputs": [
    {
     "name": "stdout",
     "output_type": "stream",
     "text": [
      "WARNING:tensorflow:From d:\\GUVI\\Hate Speech\\venv\\Lib\\site-packages\\keras\\src\\backend.py:1398: The name tf.executing_eagerly_outside_functions is deprecated. Please use tf.compat.v1.executing_eagerly_outside_functions instead.\n",
      "\n"
     ]
    },
    {
     "name": "stderr",
     "output_type": "stream",
     "text": [
      "Some weights of the PyTorch model were not used when initializing the TF 2.0 model TFDistilBertModel: ['vocab_layer_norm.weight', 'vocab_layer_norm.bias', 'vocab_transform.weight', 'vocab_transform.bias', 'vocab_projector.bias']\n",
      "- This IS expected if you are initializing TFDistilBertModel from a PyTorch model trained on another task or with another architecture (e.g. initializing a TFBertForSequenceClassification model from a BertForPreTraining model).\n",
      "- This IS NOT expected if you are initializing TFDistilBertModel from a PyTorch model that you expect to be exactly identical (e.g. initializing a TFBertForSequenceClassification model from a BertForSequenceClassification model).\n",
      "All the weights of TFDistilBertModel were initialized from the PyTorch model.\n",
      "If your task is similar to the task the model of the checkpoint was trained on, you can already use TFDistilBertModel for predictions without further training.\n"
     ]
    },
    {
     "name": "stdout",
     "output_type": "stream",
     "text": [
      "WARNING:tensorflow:From d:\\GUVI\\Hate Speech\\venv\\Lib\\site-packages\\keras\\src\\optimizers\\__init__.py:309: The name tf.train.Optimizer is deprecated. Please use tf.compat.v1.train.Optimizer instead.\n",
      "\n"
     ]
    }
   ],
   "source": [
    "# Build a model using DistilBERT with functional API\n",
    "input_layer = Input(shape=(100,), dtype='int32')\n",
    "distilbert_layer = TFDistilBertModel.from_pretrained('distilbert-base-uncased', trainable=False)(input_layer)\n",
    "pooling_layer = GlobalMaxPooling1D()(distilbert_layer.last_hidden_state)\n",
    "output_layer = Dense(len(label_encoder.classes_), activation='softmax')(pooling_layer)\n",
    "\n",
    "model = keras.Model(inputs=input_layer, outputs=output_layer)\n",
    "model.compile(optimizer='adam', loss='sparse_categorical_crossentropy', metrics=['accuracy'])"
   ]
  },
  {
   "cell_type": "code",
   "execution_count": 14,
   "id": "25c9eef4",
   "metadata": {},
   "outputs": [
    {
     "name": "stdout",
     "output_type": "stream",
     "text": [
      "(8755, 100)\n",
      "(2189, 100)\n"
     ]
    }
   ],
   "source": [
    "print(X_train.shape)\n",
    "print(X_test.shape)"
   ]
  },
  {
   "cell_type": "code",
   "execution_count": 15,
   "id": "02952213",
   "metadata": {},
   "outputs": [
    {
     "name": "stdout",
     "output_type": "stream",
     "text": [
      "Epoch 1/5\n",
      "WARNING:tensorflow:From d:\\GUVI\\Hate Speech\\venv\\Lib\\site-packages\\keras\\src\\utils\\tf_utils.py:492: The name tf.ragged.RaggedTensorValue is deprecated. Please use tf.compat.v1.ragged.RaggedTensorValue instead.\n",
      "\n",
      "WARNING:tensorflow:From d:\\GUVI\\Hate Speech\\venv\\Lib\\site-packages\\keras\\src\\engine\\base_layer_utils.py:384: The name tf.executing_eagerly_outside_functions is deprecated. Please use tf.compat.v1.executing_eagerly_outside_functions instead.\n",
      "\n",
      "247/247 [==============================] - 925s 4s/step - loss: 0.4817 - accuracy: 0.8603 - val_loss: 0.4702 - val_accuracy: 0.8630\n",
      "Epoch 2/5\n",
      "247/247 [==============================] - 908s 4s/step - loss: 0.4404 - accuracy: 0.8671 - val_loss: 0.4281 - val_accuracy: 0.8653\n",
      "Epoch 3/5\n",
      "247/247 [==============================] - 1019s 4s/step - loss: 0.4285 - accuracy: 0.8672 - val_loss: 0.4271 - val_accuracy: 0.8710\n",
      "Epoch 4/5\n",
      "247/247 [==============================] - 998s 4s/step - loss: 0.4206 - accuracy: 0.8674 - val_loss: 0.4049 - val_accuracy: 0.8653\n",
      "Epoch 5/5\n",
      "247/247 [==============================] - 898s 4s/step - loss: 0.4077 - accuracy: 0.8674 - val_loss: 0.4006 - val_accuracy: 0.8733\n"
     ]
    },
    {
     "data": {
      "text/plain": [
       "<keras.src.callbacks.History at 0x1bbfa827450>"
      ]
     },
     "execution_count": 15,
     "metadata": {},
     "output_type": "execute_result"
    }
   ],
   "source": [
    "# Train the model\n",
    "model.fit(X_train, y_train, epochs=5, batch_size=32, validation_split=0.1)"
   ]
  },
  {
   "cell_type": "code",
   "execution_count": 16,
   "id": "3e4d4341",
   "metadata": {},
   "outputs": [
    {
     "name": "stdout",
     "output_type": "stream",
     "text": [
      "69/69 [==============================] - 196s 3s/step\n",
      "Accuracy: 0.8780264961169484\n",
      "Classification Report:\n",
      "               precision    recall  f1-score   support\n",
      "\n",
      "           0       0.59      0.06      0.11       225\n",
      "           1       1.00      0.19      0.32        16\n",
      "           2       0.88      1.00      0.93      1915\n",
      "           3       0.00      0.00      0.00        33\n",
      "\n",
      "    accuracy                           0.88      2189\n",
      "   macro avg       0.62      0.31      0.34      2189\n",
      "weighted avg       0.84      0.88      0.83      2189\n",
      "\n"
     ]
    },
    {
     "name": "stderr",
     "output_type": "stream",
     "text": [
      "d:\\GUVI\\Hate Speech\\venv\\Lib\\site-packages\\sklearn\\metrics\\_classification.py:1509: UndefinedMetricWarning: Precision is ill-defined and being set to 0.0 in labels with no predicted samples. Use `zero_division` parameter to control this behavior.\n",
      "  _warn_prf(average, modifier, f\"{metric.capitalize()} is\", len(result))\n",
      "d:\\GUVI\\Hate Speech\\venv\\Lib\\site-packages\\sklearn\\metrics\\_classification.py:1509: UndefinedMetricWarning: Precision is ill-defined and being set to 0.0 in labels with no predicted samples. Use `zero_division` parameter to control this behavior.\n",
      "  _warn_prf(average, modifier, f\"{metric.capitalize()} is\", len(result))\n",
      "d:\\GUVI\\Hate Speech\\venv\\Lib\\site-packages\\sklearn\\metrics\\_classification.py:1509: UndefinedMetricWarning: Precision is ill-defined and being set to 0.0 in labels with no predicted samples. Use `zero_division` parameter to control this behavior.\n",
      "  _warn_prf(average, modifier, f\"{metric.capitalize()} is\", len(result))\n"
     ]
    }
   ],
   "source": [
    "# Evaluate model performance on the test set\n",
    "y_pred_probs = model.predict(X_test)\n",
    "y_pred = y_pred_probs.argmax(axis=1)\n",
    "accuracy = accuracy_score(y_test, y_pred)\n",
    "report = classification_report(y_test, y_pred)\n",
    "conf_mat = confusion_matrix(y_test, y_pred)\n",
    "\n",
    "print(f'Accuracy: {accuracy}')\n",
    "print('Classification Report:\\n', report)"
   ]
  },
  {
   "cell_type": "markdown",
   "id": "55c1bf95",
   "metadata": {},
   "source": [
    "False Positive/Negative Analysis:"
   ]
  },
  {
   "cell_type": "code",
   "execution_count": 17,
   "id": "697c14ab",
   "metadata": {},
   "outputs": [],
   "source": [
    "# False Positive/Negative Analysis\n",
    "y_test_labels = label_encoder.inverse_transform(y_test)\n",
    "y_pred_labels = label_encoder.inverse_transform(y_pred)"
   ]
  },
  {
   "cell_type": "code",
   "execution_count": 18,
   "id": "ddae89b6",
   "metadata": {},
   "outputs": [],
   "source": [
    "# Find indices of false positives and false negatives\n",
    "false_positive_indices = [i for i in range(len(y_test)) if y_test_labels[i] == 'noHate' and y_pred_labels[i] == 'hate']\n",
    "false_negative_indices = [i for i in range(len(y_test)) if y_test_labels[i] == 'hate' and y_pred_labels[i] == 'noHate']"
   ]
  },
  {
   "cell_type": "code",
   "execution_count": 19,
   "id": "abee6f57",
   "metadata": {},
   "outputs": [
    {
     "name": "stdout",
     "output_type": "stream",
     "text": [
      "\n",
      "False Positives:\n",
      "Actual: noHate, Predicted: hate, Text: not like talk fear create division\n",
      "Actual: noHate, Predicted: hate, Text: GLORY british Activist Nationalist good Poles help\n",
      "Actual: noHate, Predicted: hate, Text: like French\n",
      "Actual: noHate, Predicted: hate, Text: hi join forum look forward join discussion fellow white nationalist have interesting debate good friend\n",
      "Actual: noHate, Predicted: hate, Text: shoot message\n",
      "Actual: noHate, Predicted: hate, Text: White Princess\n",
      "Actual: noHate, Predicted: hate, Text: look internet onyl find Hatewatch anti site\n",
      "Actual: noHate, Predicted: hate, Text: teach direction life plus christian youth intermix race religion\n",
      "Actual: noHate, Predicted: hate, Text: college allow jews homosexual\n"
     ]
    }
   ],
   "source": [
    "# Display false positives\n",
    "print(\"\\nFalse Positives:\")\n",
    "for idx in false_positive_indices:\n",
    "    print(f\"Actual: {y_test_labels[idx]}, Predicted: {y_pred_labels[idx]}, Text: {data['preprocessed_text'][idx]}\")\n"
   ]
  },
  {
   "cell_type": "code",
   "execution_count": 20,
   "id": "d1c0138e",
   "metadata": {},
   "outputs": [
    {
     "name": "stdout",
     "output_type": "stream",
     "text": [
      "\n",
      "False Negatives:\n",
      "Actual: hate, Predicted: noHate, Text: download\n",
      "Actual: hate, Predicted: noHate, Text: ve consider teach profession like neighbourhood like kid like disgust\n",
      "Actual: hate, Predicted: noHate, Text: Free North Carolina Peterson particular vikinginme\n",
      "Actual: hate, Predicted: noHate, Text: com watch v watch min Obama AIPAC youtube\n",
      "Actual: hate, Predicted: noHate, Text: improve site\n",
      "Actual: hate, Predicted: noHate, Text: welcome line\n",
      "Actual: hate, Predicted: noHate, Text: protester Clash Military Parade Barking\n",
      "Actual: hate, Predicted: noHate, Text: parent teach weekday teach Saturday\n",
      "Actual: hate, Predicted: noHate, Text: Obama membership Prince Hall black lodge president accord guy youtube v nlfrsregii Zagami\n",
      "Actual: hate, Predicted: noHate, Text: white person send single penny lift single finger help\n",
      "Actual: hate, Predicted: noHate, Text: reason large white family encourage day build population white Germans ravage jewish attack hyperinflation\n",
      "Actual: hate, Predicted: noHate, Text: hope day proudly American country\n",
      "Actual: hate, Predicted: noHate, Text: BTL\n",
      "Actual: hate, Predicted: noHate, Text: example progress skinhead Klan\n",
      "Actual: hate, Predicted: noHate, Text: non edible chemical process process food\n",
      "Actual: hate, Predicted: noHate, Text: able finish watch video\n",
      "Actual: hate, Predicted: noHate, Text: White Power\n",
      "Actual: hate, Predicted: noHate, Text: muslim ultra strict racialist private school world white\n",
      "Actual: hate, Predicted: noHate, Text: tell worthless like Cheney cheap word crocodile tear\n",
      "Actual: hate, Predicted: noHate, Text: swede hide good look female\n",
      "Actual: hate, Predicted: noHate, Text: find pretty interesting hope Gædelig jul\n",
      "Actual: hate, Predicted: noHate, Text: wait tomorrow\n",
      "Actual: hate, Predicted: noHate, Text: possible\n",
      "Actual: hate, Predicted: noHate, Text: remind old joke\n",
      "Actual: hate, Predicted: noHate, Text: feel need close prison terroris people aid killing soldier scatter world\n",
      "Actual: hate, Predicted: noHate, Text: Poles decide leave devastate irish economy man dog tell potential ramification welfare scrounge visitor far ashore\n",
      "Actual: hate, Predicted: noHate, Text: cheer\n",
      "Actual: hate, Predicted: noHate, Text: good luck NoRemorseNoRegrets hopefully good news job let hope not figure stat\n",
      "Actual: hate, Predicted: noHate, Text: feel mix intense hate depression let thing degenerate far\n",
      "Actual: hate, Predicted: noHate, Text: filth sectarian british song irish folk song sort scum write admire filth place WN forum irish forum\n",
      "Actual: hate, Predicted: noHate, Text: get arse take action sit computer cyber hope follow suit\n",
      "Actual: hate, Predicted: noHate, Text: away weekend post blood group bother btw blood group o\n",
      "Actual: hate, Predicted: noHate, Text: thankfully Camp ahead year\n",
      "Actual: hate, Predicted: noHate, Text: people want foreign aid increase people walk past irish people live rough street care old people government ignore\n",
      "Actual: hate, Predicted: noHate, Text: hack website\n",
      "Actual: hate, Predicted: noHate, Text: mention burn night culture\n",
      "Actual: hate, Predicted: noHate, Text: \n",
      "Actual: hate, Predicted: noHate, Text: care football day sincerely hope team call England hiding wear new Serbia shirt tournament come SERBIA PROUD\n",
      "Actual: hate, Predicted: noHate, Text: hey m new browse forum ve get account decide active online day day life\n",
      "Actual: hate, Predicted: noHate, Text: Andre Gide french critic essayist novelist\n",
      "Actual: hate, Predicted: noHate, Text: Transnistria issue solve hard fact Romania simply economical power accomplish unification\n",
      "Actual: hate, Predicted: noHate, Text: Semmelweis University Department Forensic Medicine Budapest Hungary\n",
      "Actual: hate, Predicted: noHate, Text: maybe stormfront consider documentation let gypsy group join kicking hungarian\n",
      "Actual: hate, Predicted: noHate, Text: let concern anti gd video barely view likely watch anarchist\n",
      "Actual: hate, Predicted: noHate, Text: stumble n accident Absolute savage liberal woman say great multiculturalism Le TÃ lã gramme France Montpellier\n",
      "Actual: hate, Predicted: noHate, Text: m new wanderin lady intreste good oel southernman tennessee send messege\n",
      "Actual: hate, Predicted: noHate, Text: click picture wait load\n",
      "Actual: hate, Predicted: noHate, Text: \n",
      "Actual: hate, Predicted: noHate, Text: live CT want reply email address eurocatb\n",
      "Actual: hate, Predicted: noHate, Text: hire website ensure hire undesirable\n",
      "Actual: hate, Predicted: noHate, Text: clast good luck search\n",
      "Actual: hate, Predicted: noHate, Text: post ve read thread guess comment let start shall\n",
      "Actual: hate, Predicted: noHate, Text: live San Bernardino send pm\n",
      "Actual: hate, Predicted: noHate, Text: like week ago get new doc maybe talk\n",
      "Actual: hate, Predicted: noHate, Text: January Whitefish Amtrak Station winter\n",
      "Actual: hate, Predicted: noHate, Text: love scene\n",
      "Actual: hate, Predicted: noHate, Text: save change eat pork bean night instead go money white mother photo crawl infant reach\n",
      "Actual: hate, Predicted: noHate, Text: not see c product look\n",
      "Actual: hate, Predicted: noHate, Text: sister Daniel Wretström speak march remember murder follow directly speech blood Honor\n",
      "Actual: hate, Predicted: noHate, Text: apparently take suffering help white people\n",
      "Actual: hate, Predicted: noHate, Text: make skin crawl hear drunkenly yell kid hate father racial epithet ve hear\n",
      "Actual: hate, Predicted: noHate, Text: tell legalize drug pedophilia\n",
      "Actual: hate, Predicted: noHate, Text: know DON t want attract movement\n",
      "Actual: hate, Predicted: noHate, Text: traffic lite\n",
      "Actual: hate, Predicted: noHate, Text: breastfeed mom throw formula stuff away shelter\n",
      "Actual: hate, Predicted: noHate, Text: link\n",
      "Actual: hate, Predicted: noHate, Text: good grade trouble involve extracurricular good citizen probably teacher go time day school liberal\n",
      "Actual: hate, Predicted: noHate, Text: want mixed kid\n",
      "Actual: hate, Predicted: noHate, Text: facebook van page\n",
      "Actual: hate, Predicted: noHate, Text: give hard knock well get\n",
      "Actual: hate, Predicted: noHate, Text: time grow early area mix shop close\n",
      "Actual: hate, Predicted: noHate, Text: honestly fire expect damage average negro lack intellect basic firearm training\n",
      "Actual: hate, Predicted: noHate, Text: love art high culture\n",
      "Actual: hate, Predicted: noHate, Text: martial art yes system life include martial art form military skill\n",
      "Actual: hate, Predicted: noHate, Text: thank encouragement\n",
      "Actual: hate, Predicted: noHate, Text: important join group organize prepare fight army\n",
      "Actual: hate, Predicted: noHate, Text: love Halloween contemporary theme\n",
      "Actual: hate, Predicted: noHate, Text: see Palm Springs\n",
      "Actual: hate, Predicted: noHate, Text: sound like heavenly community\n",
      "Actual: hate, Predicted: noHate, Text: relatively good math resource video cover wide range topic know khan help\n",
      "Actual: hate, Predicted: noHate, Text: eventually kill white jungle way\n",
      "Actual: hate, Predicted: noHate, Text: change brief time\n",
      "Actual: hate, Predicted: noHate, Text: find inspire\n",
      "Actual: hate, Predicted: noHate, Text: actually teach place\n",
      "Actual: hate, Predicted: noHate, Text: Patrick Day free book\n",
      "Actual: hate, Predicted: noHate, Text: sound like hippyism m leave child value grab ve say parent not feel child head good thing pc patrol definitely feel head bad thing\n",
      "Actual: hate, Predicted: noHate, Text: describe sister\n",
      "Actual: hate, Predicted: noHate, Text: god sake Davison go Iran little go Shiraz Tehran see light hair light eye meet green eye light hair not\n",
      "Actual: hate, Predicted: noHate, Text: remember dark\n",
      "Actual: hate, Predicted: noHate, Text: picture old boss compare\n",
      "Actual: hate, Predicted: noHate, Text: bet Negro plan insanity defense\n",
      "Actual: hate, Predicted: noHate, Text: love double standard\n",
      "Actual: hate, Predicted: noHate, Text: unfortunately rich kid way ignore kid summer work\n",
      "Actual: hate, Predicted: noHate, Text: happen Taco Bell grin turn away\n",
      "Actual: hate, Predicted: noHate, Text: keep simple\n",
      "Actual: hate, Predicted: noHate, Text: good hear\n",
      "Actual: hate, Predicted: noHate, Text: maybe\n",
      "Actual: hate, Predicted: noHate, Text: Freuer Frei\n",
      "Actual: hate, Predicted: noHate, Text: hate feel like\n",
      "Actual: hate, Predicted: noHate, Text: sorry delay answering work summer camp\n",
      "Actual: hate, Predicted: noHate, Text: thank e mail address\n",
      "Actual: hate, Predicted: noHate, Text: spread information friend family send story internet site starter\n",
      "Actual: hate, Predicted: noHate, Text: hope stop foreign aid fund military\n",
      "Actual: hate, Predicted: noHate, Text: agree\n",
      "Actual: hate, Predicted: noHate, Text: goody run\n",
      "Actual: hate, Predicted: noHate, Text: absolute stupidity\n",
      "Actual: hate, Predicted: noHate, Text: know disgusting\n",
      "Actual: hate, Predicted: noHate, Text: fathom see brainless white negro counterpart worship Obama\n",
      "Actual: hate, Predicted: noHate, Text: believe judge post belong\n",
      "Actual: hate, Predicted: noHate, Text: wonder Lord Rings hate social engineer\n",
      "Actual: hate, Predicted: noHate, Text: YouTube rohirrim charge Helmsdeep lrm\n",
      "Actual: hate, Predicted: noHate, Text: YouTube\n",
      "Actual: hate, Predicted: noHate, Text: good thing zionist police come take earn arrogance\n",
      "Actual: hate, Predicted: noHate, Text: actually college degree choose living sit desk computer day\n",
      "Actual: hate, Predicted: noHate, Text: black white crime YouTube Black Students Attack White Man Eating Dinner Black Man YouTube Black Attack White Hopkins Researcher plan\n",
      "Actual: hate, Predicted: noHate, Text: Negro rioting time Black Panther Party rally YouTube NYPD Vs Black People Macon st riot YouTube NBPP vs NYPD\n",
      "Actual: hate, Predicted: noHate, Text: big problem face race today non white immigrant white not want live near ghetto\n",
      "Actual: hate, Predicted: noHate, Text: know ethnic neighbourhood soon turn slum\n",
      "Actual: hate, Predicted: noHate, Text: WFIN News Tom Sheldon Scott Jennings Findlay Ohio\n",
      "Actual: hate, Predicted: noHate, Text: Victim Judy Burstein meet singer Michoel Streicher performance year ago Rockland County Brooklyn Lakewood NJ\n",
      "Actual: hate, Predicted: noHate, Text: Streicher pose rabbi take money promise use purchase torah instead pocket jury find convict grand larceny April\n",
      "Actual: hate, Predicted: noHate, Text: bid good night\n",
      "Actual: hate, Predicted: noHate, Text: eye nose skin tone away\n",
      "Actual: hate, Predicted: noHate, Text: old school picture think\n",
      "Actual: hate, Predicted: noHate, Text: thread racially motivated attack white teacher middle schooler beat white woman teacher bus way school\n",
      "Actual: hate, Predicted: noHate, Text: Karina Sorensen member Danish Peoples Party pro danish heritage party\n",
      "Actual: hate, Predicted: noHate, Text: Medlem af DFUìs bestyrelse\n",
      "Actual: hate, Predicted: noHate, Text: Karina Sørensen member party outreach group\n",
      "Actual: hate, Predicted: noHate, Text: thank Odin try come modern day\n",
      "Actual: hate, Predicted: noHate, Text: likely invite come hope share news\n",
      "Actual: hate, Predicted: noHate, Text: Wolf\n",
      "Actual: hate, Predicted: noHate, Text: look like Dennys s list\n",
      "Actual: hate, Predicted: noHate, Text: \n",
      "Actual: hate, Predicted: noHate, Text: day day come\n",
      "Actual: hate, Predicted: noHate, Text: welcome change fellow wn see hundred lefty bastard go RATM\n",
      "Actual: hate, Predicted: noHate, Text: think everybody know check thread skinhead https forum rish skinhead knowbody trust day go ahead story old news fool star print not notice post joeblogs defend self\n",
      "Actual: hate, Predicted: noHate, Text: people country year come money bank give black illegal immigrant shocking\n",
      "Actual: hate, Predicted: noHate, Text: irish boyfriend year laugh ireland see black people guess thing change lot odd year\n",
      "Actual: hate, Predicted: noHate, Text: okay sshh\n",
      "Actual: hate, Predicted: noHate, Text: sad news hear entire life ireland white country like say world end\n",
      "Actual: hate, Predicted: noHate, Text: time year time year\n",
      "Actual: hate, Predicted: noHate, Text: time year time generation fight regain country baby boomer lose\n",
      "Actual: hate, Predicted: noHate, Text: not people ignore issue long\n",
      "Actual: hate, Predicted: noHate, Text: share good people board delightful enrich video find YouTube town grow\n",
      "Actual: hate, Predicted: noHate, Text: notice lovely pakistani people celebrate warm cockle heart\n",
      "Actual: hate, Predicted: noHate, Text: rampage Productions Welcome blood Honour Forum\n",
      "Actual: hate, Predicted: noHate, Text: recently watch item BBC news headteacher school Birmingham interview lack funding\n",
      "Actual: hate, Predicted: noHate, Text: want assimilation\n",
      "Actual: hate, Predicted: noHate, Text: lock wonder long end serve maybe week lucky country\n",
      "Actual: hate, Predicted: noHate, Text: London f ke\n",
      "Actual: hate, Predicted: noHate, Text: London place white nationalist\n",
      "Actual: hate, Predicted: noHate, Text: like comment link\n",
      "Actual: hate, Predicted: noHate, Text: time Muslims prison year ago\n",
      "Actual: hate, Predicted: noHate, Text: hi need information understand meaning negrogreek homo race mixer tag HELLENIC THREAD\n",
      "Actual: hate, Predicted: noHate, Text: bulgar turkic peice ustasha KOSOVO belong SERBİA hate serb way Makedonia belong Greece bulgayria\n",
      "Actual: hate, Predicted: noHate, Text: Greece Serbia HD YouTube Thank brother Greeks\n",
      "Actual: hate, Predicted: noHate, Text: forget nation country\n",
      "Actual: hate, Predicted: noHate, Text: https forum groupid\n",
      "Actual: hate, Predicted: noHate, Text: graveland favourite band Prawo Stali material release myspace new material new sound wait\n",
      "Actual: hate, Predicted: noHate, Text: production white baby increase white population task white couple\n",
      "Actual: hate, Predicted: noHate, Text: note news Ruger Corporate Sturm Ruger Company report Strong Quarter Bookings March Sturm Ruger Company NYSE RGR announce today quarter Company receive order million unit\n",
      "Actual: hate, Predicted: noHate, Text: Company temporarily suspend acceptance new order\n",
      "Actual: hate, Predicted: noHate, Text: reply post guy past get reply lady actually try\n",
      "Actual: hate, Predicted: noHate, Text: get Slavs slavs\n",
      "Actual: hate, Predicted: noHate, Text: thraco celtic ethnic group\n",
      "Actual: hate, Predicted: noHate, Text: example year old year dress Wiggers Whores Pimps Halloween\n",
      "Actual: hate, Predicted: noHate, Text: \n",
      "Actual: hate, Predicted: noHate, Text: welcome mass awhile ben milton south boston look friend send message\n",
      "Actual: hate, Predicted: noHate, Text: normal\n",
      "Actual: hate, Predicted: noHate, Text: look close land soon s location tell southeast USA\n",
      "Actual: hate, Predicted: noHate, Text: form little place village small community purely white race enter interact majority consent\n",
      "Actual: hate, Predicted: noHate, Text: miss mark movie Jack London show Jack London Literary Prize Banquet\n",
      "Actual: hate, Predicted: noHate, Text: get stick huge black woman stunk high heaven spend entire ride face close window\n",
      "Actual: hate, Predicted: noHate, Text: jackass tell hundred thousand foreign national invade country lay seige city\n",
      "Actual: hate, Predicted: noHate, Text: good\n",
      "Actual: hate, Predicted: noHate, Text: cheerleader go court Amendment right put Bible verse football game banner win\n",
      "Actual: hate, Predicted: noHate, Text: thank\n",
      "Actual: hate, Predicted: noHate, Text: plan celebrate white entire hour\n",
      "Actual: hate, Predicted: noHate, Text: hope sort thing\n",
      "Actual: hate, Predicted: noHate, Text: concerned privacy security regularly scan remove spyware computer\n",
      "Actual: hate, Predicted: noHate, Text: horny dumb kid\n",
      "Actual: hate, Predicted: noHate, Text: thankfully kid like\n",
      "Actual: hate, Predicted: noHate, Text: child ask parent celebrate parent answer celebrate secularism\n",
      "Actual: hate, Predicted: noHate, Text: extra concern care Tibet\n",
      "Actual: hate, Predicted: noHate, Text: harmful society jews savage beast thoughtless gimmiegrunt\n",
      "Actual: hate, Predicted: noHate, Text: win win situation\n",
      "Actual: hate, Predicted: noHate, Text: dumb ass Jew propaganda show idiocy away t\n",
      "Actual: hate, Predicted: noHate, Text: Holocaust Handbooks Educate YouTube Holocaust Handbooks world premiere Revisionist book series\n",
      "Actual: hate, Predicted: noHate, Text: Trudeau sneak like\n",
      "Actual: hate, Predicted: noHate, Text: want read\n",
      "Actual: hate, Predicted: noHate, Text: cool short draw draw weight look light\n",
      "Actual: hate, Predicted: noHate, Text: Dresden remembrance year year\n",
      "Actual: hate, Predicted: noHate, Text: California try pass law require bio metric fingerprint ID technology gun year SB\n",
      "Actual: hate, Predicted: noHate, Text: need rebuild move cage turn right rebuild\n",
      "Actual: hate, Predicted: noHate, Text: see music float sheet music piano happy work transcription send pdf\n",
      "Actual: hate, Predicted: noHate, Text: haha think thing\n",
      "Actual: hate, Predicted: noHate, Text: go kid common sense white adult sadly\n",
      "Actual: hate, Predicted: noHate, Text: unforgivable\n",
      "Actual: hate, Predicted: noHate, Text: sight yard\n",
      "Actual: hate, Predicted: noHate, Text: Retro Grouch post day multispeed bmx speed freewheel continue gear bmx bike BMX Society community forum speed freewheel similar design BMX hub single speed freewheel hub bmx frame add rear derailer\n",
      "Actual: hate, Predicted: noHate, Text: homosexual practice perverse lifestyle destroy body mind soul drug use merely path destructive end\n",
      "Actual: hate, Predicted: noHate, Text: Christ sacrifice eliminate need sacrifice covenant eliminate\n",
      "Actual: hate, Predicted: noHate, Text: quickly info good hate non existant\n",
      "Actual: hate, Predicted: noHate, Text: truth\n",
      "Actual: hate, Predicted: noHate, Text: like teach negro\n",
      "Actual: hate, Predicted: noHate, Text: remember fifth grade teacher tell story feel special blond kid class\n",
      "Actual: hate, Predicted: noHate, Text: personally like welcome White Brethren want join fight Texas\n",
      "Actual: hate, Predicted: noHate, Text: Iran patrol East Coast mdash RT report go September year\n",
      "Actual: hate, Predicted: noHate, Text: Marxist Subversion happen\n",
      "Actual: hate, Predicted: noHate, Text: oil year actually\n",
      "Actual: hate, Predicted: noHate, Text: \n",
      "Actual: hate, Predicted: noHate, Text: hell ill pic aim p Ladieees P AIM Trilidon\n"
     ]
    }
   ],
   "source": [
    "# Display false negatives\n",
    "print(\"\\nFalse Negatives:\")\n",
    "for idx in false_negative_indices:\n",
    "    print(f\"Actual: {y_test_labels[idx]}, Predicted: {y_pred_labels[idx]}, Text: {data['preprocessed_text'][idx]}\")\n"
   ]
  }
 ],
 "metadata": {
  "kernelspec": {
   "display_name": "Python 3 (ipykernel)",
   "language": "python",
   "name": "python3"
  },
  "language_info": {
   "codemirror_mode": {
    "name": "ipython",
    "version": 3
   },
   "file_extension": ".py",
   "mimetype": "text/x-python",
   "name": "python",
   "nbconvert_exporter": "python",
   "pygments_lexer": "ipython3",
   "version": "3.11.0"
  }
 },
 "nbformat": 4,
 "nbformat_minor": 5
}
